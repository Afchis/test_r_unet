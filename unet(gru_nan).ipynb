{
 "cells": [
  {
   "cell_type": "code",
   "execution_count": 1,
   "metadata": {
    "colab": {
     "base_uri": "https://localhost:8080/",
     "height": 34
    },
    "colab_type": "code",
    "id": "BPyKhCY_51Zz",
    "outputId": "4c1597f5-a7fd-4d71-e541-52fc06810ead"
   },
   "outputs": [
    {
     "data": {
      "text/plain": [
       "['test_output',\n",
       " 'test_output(without_gru)',\n",
       " 'test_output(gru_nan)',\n",
       " '__pycache__',\n",
       " 'test',\n",
       " 'labels',\n",
       " 'images',\n",
       " 'dataloader.py']"
      ]
     },
     "execution_count": 1,
     "metadata": {},
     "output_type": "execute_result"
    }
   ],
   "source": [
    "import os\n",
    "import numpy as np\n",
    "\n",
    "import scipy.ndimage.morphology as morph\n",
    "\n",
    "import torch\n",
    "import torch.nn as nn\n",
    "import torch.nn.functional as F\n",
    "from torch.utils.data import Dataset, DataLoader\n",
    "import torchvision\n",
    "import torchvision.transforms as transforms\n",
    "\n",
    "from PIL import Image\n",
    "\n",
    "to_pil = transforms.ToPILImage()\n",
    "os.listdir('../test_r_unet/data/')"
   ]
  },
  {
   "cell_type": "code",
   "execution_count": 2,
   "metadata": {
    "colab": {},
    "colab_type": "code",
    "id": "8xmzATXD6EYM"
   },
   "outputs": [],
   "source": [
    "# arguments\n",
    "timesteps = 3\n",
    "batch_size = 4\n",
    "num_epochs = 50\n",
    "input_size = 128\n",
    "num_classes = 2\n",
    "\n",
    "gru_nan = True\n",
    "\n",
    "transform = transforms.Compose([\n",
    "                              transforms.Resize((128, 128), interpolation = 0),\n",
    "#                               transforms.RandomHorizontalFlip(p=0.5),\n",
    "#                               transforms.RandomVerticalFlip(p=0.5),\n",
    "                              transforms.ToTensor()\n",
    "                              ])\n",
    "\n",
    "to_tensor = transforms.ToTensor()\n",
    "\n",
    "# decive\n",
    "device = torch.device(\"cuda:0\" if torch.cuda.is_available() else \"cpu\")"
   ]
  },
  {
   "cell_type": "code",
   "execution_count": 3,
   "metadata": {
    "colab": {},
    "colab_type": "code",
    "id": "QKWrQABp6WbP"
   },
   "outputs": [],
   "source": [
    "# way to the data folders\n",
    "folder_data = \"../test_r_unet/data/images\"\n",
    "folder_mask = \"../test_r_unet/data/labels\"\n",
    "folder_test = \"../test_r_unet/data/test\"\n",
    "\n",
    "file_names = sorted(os.listdir('../test_r_unet/data/images'))"
   ]
  },
  {
   "cell_type": "code",
   "execution_count": 4,
   "metadata": {},
   "outputs": [],
   "source": [
    "def get_labels(object):\n",
    "    label1 = (object==0).float()\n",
    "    label2 = (label1==0).float()\n",
    "    labels = torch.stack([label1, label2], dim=1)\n",
    "    return labels"
   ]
  },
  {
   "cell_type": "code",
   "execution_count": 5,
   "metadata": {
    "colab": {},
    "colab_type": "code",
    "id": "g2IQuWm36YiO"
   },
   "outputs": [],
   "source": [
    "class MedData(Dataset):\n",
    "    def __init__(self):\n",
    "        super().__init__()\n",
    "        self.time = timesteps\n",
    "        self.folder_data = folder_data\n",
    "        self.folder_mask = folder_mask\n",
    "        self.file_names = file_names\n",
    "        \n",
    "    def __getitem__(self, idx):\n",
    "        gif_list = []\n",
    "        for i in range(self.time):\n",
    "            gif_list.append(transform(Image.open(self.folder_data + '/' + file_names[idx+i])).unsqueeze(0))\n",
    "        gif_data = torch.stack(gif_list)\n",
    "        gif_list.clear()\n",
    "        for i in range(self.time):\n",
    "            gif_list.append(get_labels(transform(Image.open(self.folder_mask + '/' + file_names[idx+i]))).unsqueeze(0))\n",
    "        gif_mask = torch.stack(gif_list).squeeze(dim=2)\n",
    "        #gif_mask = gif_mask[:,:,0,:,:,:]\n",
    "        gif_list.clear()\n",
    "        for i in range(self.time):\n",
    "            img = Image.open(folder_mask + '/' + file_names[idx+i])\n",
    "            img = img.resize((128, 128), resample=Image.NEAREST)\n",
    "            gif_list.append(to_tensor(morph.distance_transform_edt(np.asarray(img)/255)).unsqueeze(0))\n",
    "        gif_depth = torch.stack(gif_list)\n",
    "        return gif_data, gif_mask, gif_depth\n",
    "    \n",
    "    def __len__(self):\n",
    "        return len(self.file_names) - self.time + 1\n",
    "    \n",
    "    \n",
    "class TestMedData(Dataset):\n",
    "    def __init__(self):\n",
    "        super().__init__\n",
    "        self.time = timesteps\n",
    "        self.folder_test = folder_test\n",
    "        self.file_names = file_names\n",
    "        \n",
    "    def __getitem__(self, idx):\n",
    "        gif_list = []\n",
    "        for i in range(self.time):\n",
    "            gif_list.append(transform(Image.open(self.folder_test + '/' + file_names[idx+i])).unsqueeze(0))\n",
    "        gif_test = torch.stack(gif_list)\n",
    "        gif_list.clear()\n",
    "        return gif_test\n",
    "    \n",
    "    def __len__(self):\n",
    "        return len(self.file_names) - self.time + 1\n",
    "        "
   ]
  },
  {
   "cell_type": "code",
   "execution_count": 6,
   "metadata": {
    "colab": {
     "base_uri": "https://localhost:8080/",
     "height": 34
    },
    "colab_type": "code",
    "id": "bSn_QdInV-y2",
    "outputId": "33035b3a-0e3d-4554-f115-4b940e8aa356"
   },
   "outputs": [],
   "source": [
    "dataset = MedData()\n",
    "test_dataset = TestMedData()\n",
    "\n",
    "train_loader = DataLoader(dataset=dataset,\n",
    "                          batch_size=batch_size,\n",
    "                          num_workers=2,\n",
    "                          shuffle=True)\n",
    "test_loader = DataLoader(dataset=test_dataset,\n",
    "                         batch_size=1,\n",
    "                         num_workers=2,\n",
    "                         shuffle=False)"
   ]
  },
  {
   "cell_type": "code",
   "execution_count": 7,
   "metadata": {
    "colab": {},
    "colab_type": "code",
    "id": "Ifi9yFmPWJGp"
   },
   "outputs": [],
   "source": [
    "class GruCell(nn.Module):\n",
    "    \n",
    "    def __init__(self, channel):\n",
    "        super(GruCell, self).__init__()\n",
    "        self.conv_relu = nn.Sequential(nn.Conv2d(in_channels=channel, out_channels=channel, kernel_size=3, stride=1, padding=1),\n",
    "                                       nn.ELU(),\n",
    "                                       nn.Dropout(p=0.2))\n",
    "        \n",
    "        self.conv_relu_2x = nn.Sequential(nn.Conv2d(in_channels=channel+channel, out_channels=channel, kernel_size=3, stride=1, padding=1),\n",
    "                                          nn.ELU(),\n",
    "                                          nn.Dropout(p=0.2))\n",
    "        \n",
    "        self.sig = nn.Sigmoid()\n",
    "        self.relu = nn.ReLU()\n",
    "\n",
    "     \n",
    "    def forward(self, x, hidden):\n",
    "        input = torch.cat([x, hidden],dim=1)\n",
    "\n",
    "        update_gate = self.conv_relu_2x(input)\n",
    "        update_gate = self.sig((update_gate)) ### output after update gate\n",
    "        reset_gate = self.conv_relu_2x(input)\n",
    "        reset_gate = self.sig((reset_gate)) ### output after reset gate\n",
    "        \n",
    "        \n",
    "        memory_gate_for_input = self.conv_relu(x)\n",
    "        memory_gate_for_hidden = self.conv_relu(hidden)\n",
    "\n",
    "        memory_content = memory_gate_for_input + (reset_gate * memory_gate_for_hidden) ### output for reset gate(affects how the reset gate do work)\n",
    "        memory_content = self.relu(memory_content)\n",
    "\n",
    "        hidden = (update_gate * hidden) + ((1 - update_gate) * memory_content) # torch.ones(input_size, hidden_size)\n",
    "\n",
    "        return hidden, hidden"
   ]
  },
  {
   "cell_type": "code",
   "execution_count": 8,
   "metadata": {
    "colab": {},
    "colab_type": "code",
    "id": "uhKh4Y4tWNLo"
   },
   "outputs": [],
   "source": [
    "# create class Gru\n",
    "class Gru(nn.Module):\n",
    "\n",
    "    def __init__(self, channels_size, gru_input_size): # arg for gru layer\n",
    "        super(Gru, self).__init__()\n",
    "        self.batch_size = batch_size\n",
    "        self.timesteps = timesteps\n",
    "        self.channels_size = channels_size\n",
    "        self.input_size = gru_input_size\n",
    "        self.hidden_size = (self.batch_size, channels_size, gru_input_size, gru_input_size)\n",
    "        \n",
    "        self.gru_layer0 = GruCell(channels_size)\n",
    "        self.init_hidden = torch.zeros(self.hidden_size).to(device)\n",
    "        self.gru_nan = gru_nan\n",
    "\n",
    "\n",
    "    def forward(self, x):\n",
    "        x_cells = None\n",
    "        x_list = []\n",
    "        if self.gru_nan == False:\n",
    "            try:\n",
    "                x = x.reshape(batch_size, timesteps, self.channels_size, self.input_size, self.input_size)\n",
    "                x = x.permute(1, 0, 2, 3, 4)\n",
    "                for i in range(timesteps):\n",
    "                    if x_cells is None:\n",
    "                        x_cells, hidden = self.gru_layer0(x[i], self.init_hidden)\n",
    "                        x_list.append(x_cells)\n",
    "                    else:\n",
    "                        x_i, hidden = self.gru_layer0(x[i], hidden)\n",
    "                        x_list.append(x_i)\n",
    "                x_cells = torch.stack(x_list)\n",
    "\n",
    "             ##### FOR LAST BATCH\n",
    "            except RuntimeError:\n",
    "                x = x.reshape(1, timesteps, self.channels_size, self.input_size, self.input_size) #last batch is (15), but batch_size = 16, #arg.timesteps = 2 \n",
    "                x = x.permute(1, 0, 2, 3, 4)\n",
    "                hidden_zero = torch.zeros_like(x)\n",
    "                for i in range(timesteps):\n",
    "                    if x_cells is None:\n",
    "                        x_cells, hidden = self.gru_layer0(x[i], hidden_zero[0])\n",
    "                        x_list.append(x_cells)\n",
    "                    else:\n",
    "                        x_i, hidden = self.gru_layer0(x[i], hidden)\n",
    "                        x_list.append(x_i)\n",
    "                x_cells = torch.stack(x_list)\n",
    "             #####\n",
    "        elif self.gru_nan == True:\n",
    "            try:\n",
    "                x = x.reshape(batch_size, timesteps, self.channels_size, self.input_size, self.input_size)\n",
    "                x = x.permute(1, 0, 2, 3, 4)\n",
    "                for i in range(timesteps):\n",
    "                    if x_cells is None:\n",
    "                        x_cells, hidden = self.gru_layer0(x[i], self.init_hidden)\n",
    "                        x_list.append(x_cells)\n",
    "                    else:\n",
    "                        x_i, hidden = self.gru_layer0(x[i], self.init_hidden)\n",
    "                        x_list.append(x_i)\n",
    "                x_cells = torch.stack(x_list)\n",
    "\n",
    "             ##### FOR LAST BATCH\n",
    "            except RuntimeError:\n",
    "                x = x.reshape(1, timesteps, self.channels_size, self.input_size, self.input_size) #last batch is (15), but batch_size = 16, #arg.timesteps = 2 \n",
    "                x = x.permute(1, 0, 2, 3, 4)\n",
    "                hidden_zero = torch.zeros_like(x)\n",
    "                for i in range(timesteps):\n",
    "                    if x_cells is None:\n",
    "                        x_cells, hidden = self.gru_layer0(x[i], hidden_zero[0])\n",
    "                        x_list.append(x_cells)\n",
    "                    else:\n",
    "                        x_i, hidden = self.gru_layer0(x[i], hidden_zero[0])\n",
    "                        x_list.append(x_i)\n",
    "                x_cells = torch.stack(x_list)\n",
    "             #####\n",
    "        else:\n",
    "            print('gru_nan can be only True or False')\n",
    "            quit()\n",
    "        x_cells = x_cells.reshape(-1, self.channels_size, self.input_size, self.input_size)\n",
    "\n",
    "        return x_cells  "
   ]
  },
  {
   "cell_type": "code",
   "execution_count": 9,
   "metadata": {
    "colab": {},
    "colab_type": "code",
    "id": "R5qiHVAwWTcq"
   },
   "outputs": [],
   "source": [
    "class Conv3x3Small(nn.Module):\n",
    "    def __init__(self, in_feat, out_feat):\n",
    "        super(Conv3x3Small, self).__init__()\n",
    "\n",
    "        self.conv1 = nn.Sequential(nn.Conv2d(in_feat, out_feat,\n",
    "                                             kernel_size=3,\n",
    "                                             stride=1,\n",
    "                                             padding=1),\n",
    "                                   nn.ELU(),\n",
    "                                   nn.Dropout(p=0.2))\n",
    "\n",
    "        self.conv2 = nn.Sequential(nn.Conv2d(out_feat, out_feat,\n",
    "                                             kernel_size=3,\n",
    "                                             stride=1,\n",
    "                                             padding=1),\n",
    "                                   nn.ELU())\n",
    "\n",
    "    def forward(self, inputs):\n",
    "        outputs = self.conv1(inputs)\n",
    "        outputs = self.conv2(outputs)\n",
    "        return outputs\n",
    "\n",
    "\n",
    "class DoubleConv(nn.Module):\n",
    "\n",
    "    def __init__(self, in_channels, out_channels):\n",
    "        super().__init__()\n",
    "        self.double_conv = nn.Sequential(\n",
    "            nn.Conv2d(in_channels, out_channels, kernel_size=3, padding=1),\n",
    "            nn.ELU(),\n",
    "            nn.Dropout(p=0.2),\n",
    "            nn.Conv2d(out_channels, out_channels, kernel_size=3, padding=1),\n",
    "            nn.ELU(),\n",
    "            nn.Dropout(p=0.2)\n",
    "        )\n",
    "\n",
    "    def forward(self, x):\n",
    "        return self.double_conv(x)\n",
    "\n",
    "    \n",
    "class Conv(nn.Module):\n",
    "\n",
    "    def __init__(self, in_channels, out_channels):\n",
    "        super().__init__()\n",
    "        self.conv = nn.Sequential(\n",
    "            nn.Conv2d(in_channels, out_channels, kernel_size=3, padding=1),\n",
    "            nn.ELU(),\n",
    "            nn.Dropout(p=0.2)\n",
    "        )\n",
    "\n",
    "    def forward(self, x):\n",
    "        return self.conv(x)\n",
    "\n",
    "\n",
    "class UpConcat(nn.Module):\n",
    "    def __init__(self, in_feat, out_feat):\n",
    "        super(UpConcat, self).__init__()\n",
    "\n",
    "        self.up = nn.UpsamplingBilinear2d(scale_factor=2)\n",
    "\n",
    "        # self.deconv = nn.ConvTranspose2d(in_feat, out_feat,\n",
    "        #                                  kernel_size=3,\n",
    "        #                                  stride=1,\n",
    "        #                                  dilation=1)\n",
    "\n",
    "        self.deconv = nn.ConvTranspose2d(in_feat,\n",
    "                                         out_feat,\n",
    "                                         kernel_size=2,\n",
    "                                         stride=2)\n",
    "\n",
    "    def forward(self, inputs, down_outputs):\n",
    "        # TODO: Upsampling required after deconv?\n",
    "        # outputs = self.up(inputs)\n",
    "        outputs = self.deconv(inputs)\n",
    "        out = torch.cat([down_outputs, outputs], 1)\n",
    "        return out\n",
    "\n",
    "\n",
    "class UpSample(nn.Module):\n",
    "    def __init__(self, in_feat, out_feat):\n",
    "        super(UpSample, self).__init__()\n",
    "\n",
    "        self.up = nn.Upsample(scale_factor=2, mode='nearest')\n",
    "\n",
    "        self.deconv = nn.ConvTranspose2d(in_feat,\n",
    "                                         out_feat,\n",
    "                                         kernel_size=2,\n",
    "                                         stride=2)\n",
    "\n",
    "    def forward(self, inputs, down_outputs):\n",
    "        # TODO: Upsampling required after deconv?\n",
    "        outputs = self.up(inputs)\n",
    "        # outputs = self.deconv(inputs)\n",
    "        out = torch.cat([outputs, down_outputs], 1)\n",
    "        return out"
   ]
  },
  {
   "cell_type": "code",
   "execution_count": 10,
   "metadata": {
    "colab": {},
    "colab_type": "code",
    "id": "nNadNWr3WiVH"
   },
   "outputs": [],
   "source": [
    "class UNetSmall(nn.Module):\n",
    "    def __init__(self, num_channels=1, num_classes=2):\n",
    "        super(UNetSmall, self).__init__()\n",
    "        num_feat = [32, 64, 128, 256]\n",
    "        self.input_size = input_size\n",
    "\n",
    "        self.down1 = nn.Sequential(DoubleConv(num_channels, num_feat[0]))\n",
    "\n",
    "        self.down2 = nn.Sequential(nn.MaxPool2d(kernel_size=2),\n",
    "                                   Gru(num_feat[0], gru_input_size=64),\n",
    "                                   Conv(num_feat[0], num_feat[1]))\n",
    "\n",
    "        self.down3 = nn.Sequential(nn.MaxPool2d(kernel_size=2),\n",
    "                                   Gru(num_feat[1], gru_input_size=32),\n",
    "                                   Conv(num_feat[1], num_feat[2]))\n",
    "\n",
    "        self.bottom = nn.Sequential(nn.MaxPool2d(kernel_size=2),\n",
    "                                   Gru(num_feat[2], gru_input_size=16),\n",
    "                                   Conv(num_feat[2], num_feat[3]))\n",
    "\n",
    "        self.up1 = UpSample(num_feat[3], num_feat[2])\n",
    "        self.upconv1 = nn.Sequential(Conv3x3Small(num_feat[3] + num_feat[2], num_feat[2]),\n",
    "                                     nn.BatchNorm2d(num_feat[2]))\n",
    "\n",
    "        self.up2 = UpSample(num_feat[2], num_feat[1])\n",
    "        self.upconv2 = nn.Sequential(Conv3x3Small(num_feat[2] + num_feat[1], num_feat[1]),\n",
    "                                     nn.BatchNorm2d(num_feat[1]))\n",
    "\n",
    "        self.up3 = UpSample(num_feat[1], num_feat[0])\n",
    "        self.upconv3 = nn.Sequential(Conv3x3Small(num_feat[1] + num_feat[0], num_feat[0]),\n",
    "                                     nn.BatchNorm2d(num_feat[0]))\n",
    "\n",
    "        self.final = nn.Sequential(nn.Conv2d(num_feat[0], num_classes, kernel_size=1),\n",
    "                                   nn.Sigmoid(),\n",
    "                                   nn.Softmax()\n",
    "                                   )\n",
    "\n",
    "    def forward(self, inputs, return_features=False):\n",
    "        inputs = inputs.reshape(-1, 1, self.input_size, self.input_size)\n",
    "        # print(inputs.data.size())\n",
    "        down1_feat = self.down1(inputs)\n",
    "        # print(down1_feat.size())\n",
    "        down2_feat = self.down2(down1_feat)\n",
    "        # print(down2_feat.size())\n",
    "        down3_feat = self.down3(down2_feat)\n",
    "        # print(down3_feat.size())\n",
    "        bottom_feat = self.bottom(down3_feat)\n",
    "\n",
    "        # print(bottom_feat.size())\n",
    "        up1_feat = self.up1(bottom_feat, down3_feat)\n",
    "        # print(up1_feat.size())\n",
    "        up1_feat = self.upconv1(up1_feat)\n",
    "        # print(up1_feat.size())\n",
    "        up2_feat = self.up2(up1_feat, down2_feat)\n",
    "        # print(up2_feat.size())\n",
    "        up2_feat = self.upconv2(up2_feat)\n",
    "        # print(up2_feat.size())\n",
    "        up3_feat = self.up3(up2_feat, down1_feat)\n",
    "        # print(up3_feat.size())\n",
    "        up3_feat = self.upconv3(up3_feat)\n",
    "        # print(up3_feat.size())\n",
    "\n",
    "        if return_features:\n",
    "            outputs = up3_feat\n",
    "        else:\n",
    "            outputs = self.final(up3_feat)\n",
    "        \n",
    "        \n",
    "\n",
    "        return outputs"
   ]
  },
  {
   "cell_type": "code",
   "execution_count": 11,
   "metadata": {},
   "outputs": [],
   "source": [
    "class WithoutGruUNet(nn.Module):\n",
    "    def __init__(self, num_channels=1, num_classes=2):\n",
    "        super(WithoutGruUNet, self).__init__()\n",
    "        num_feat = [32, 64, 128, 256]\n",
    "        self.input_size = input_size\n",
    "\n",
    "        self.down1 = nn.Sequential(Conv3x3Small(num_channels, num_feat[0]))\n",
    "\n",
    "        self.down2 = nn.Sequential(nn.MaxPool2d(kernel_size=2),\n",
    "                                   Conv3x3Small(num_feat[0], num_feat[1]))\n",
    "\n",
    "        self.down3 = nn.Sequential(nn.MaxPool2d(kernel_size=2),\n",
    "                                   Conv3x3Small(num_feat[1], num_feat[2]))\n",
    "\n",
    "        self.bottom = nn.Sequential(nn.MaxPool2d(kernel_size=2),\n",
    "                                    Conv3x3Small(num_feat[2], num_feat[3])\n",
    "                                   )\n",
    "\n",
    "        self.up1 = UpSample(num_feat[3], num_feat[2])\n",
    "        self.upconv1 = nn.Sequential(Conv3x3Small(num_feat[3] + num_feat[2], num_feat[2]),\n",
    "                                     nn.BatchNorm2d(num_feat[2]))\n",
    "\n",
    "        self.up2 = UpSample(num_feat[2], num_feat[1])\n",
    "        self.upconv2 = nn.Sequential(Conv3x3Small(num_feat[2] + num_feat[1], num_feat[1]),\n",
    "                                     nn.BatchNorm2d(num_feat[1]))\n",
    "\n",
    "        self.up3 = UpSample(num_feat[1], num_feat[0])\n",
    "        self.upconv3 = nn.Sequential(Conv3x3Small(num_feat[1] + num_feat[0], num_feat[0]),\n",
    "                                     nn.BatchNorm2d(num_feat[0]))\n",
    "\n",
    "        self.final = nn.Sequential(nn.Conv2d(num_feat[0], num_classes, kernel_size=1),\n",
    "                                   nn.Sigmoid(),\n",
    "                                   nn.Softmax()\n",
    "                                   )\n",
    "\n",
    "    def forward(self, inputs, return_features=False):\n",
    "        inputs = inputs.reshape(-1, 1, self.input_size, self.input_size)\n",
    "        # print(inputs.data.size())\n",
    "        down1_feat = self.down1(inputs)\n",
    "        # print(down1_feat.size())\n",
    "        down2_feat = self.down2(down1_feat)\n",
    "        # print(down2_feat.size())\n",
    "        down3_feat = self.down3(down2_feat)\n",
    "        # print(down3_feat.size())\n",
    "        bottom_feat = self.bottom(down3_feat)\n",
    "\n",
    "        # print(bottom_feat.size())\n",
    "        up1_feat = self.up1(bottom_feat, down3_feat)\n",
    "        # print(up1_feat.size())\n",
    "        up1_feat = self.upconv1(up1_feat)\n",
    "        # print(up1_feat.size())\n",
    "        up2_feat = self.up2(up1_feat, down2_feat)\n",
    "        # print(up2_feat.size())\n",
    "        up2_feat = self.upconv2(up2_feat)\n",
    "        # print(up2_feat.size())\n",
    "        up3_feat = self.up3(up2_feat, down1_feat)\n",
    "        # print(up3_feat.size())\n",
    "        up3_feat = self.upconv3(up3_feat)\n",
    "        # print(up3_feat.size())\n",
    "\n",
    "        if return_features:\n",
    "            outputs = up3_feat\n",
    "        else:\n",
    "            outputs = self.final(up3_feat)\n",
    "        \n",
    "        \n",
    "\n",
    "        return outputs"
   ]
  },
  {
   "cell_type": "code",
   "execution_count": 12,
   "metadata": {
    "colab": {},
    "colab_type": "code",
    "id": "CsCDa52lWmz2"
   },
   "outputs": [],
   "source": [
    "model = UNetSmall()\n",
    "model = model.to(device)"
   ]
  },
  {
   "cell_type": "code",
   "execution_count": 13,
   "metadata": {
    "colab": {},
    "colab_type": "code",
    "id": "lwJ7yWfZWpHk"
   },
   "outputs": [],
   "source": [
    "optimizer = torch.optim.Adam(model.parameters(), lr=0.0005)\n",
    "\n",
    "def dice_loss(pred, target, depth, smooth = 1.):\n",
    "    pred = pred.contiguous()\n",
    "    target = target.contiguous()\n",
    "    #print(pred.shape, target.shape, depth.shape)\n",
    "    intersection = (pred * target * depth).sum(dim=2).sum(dim=2)\n",
    "    \n",
    "    loss = (1 - ((2. * intersection + smooth) / ((pred*depth).sum(dim=2).sum(dim=2) + (target*depth).sum(dim=2).sum(dim=2) + smooth)))\n",
    "    \n",
    "    return loss.mean()\n",
    "\n",
    "def calc_loss(prediction, target, depth, bce_weight=0.3):\n",
    "    try:\n",
    "        prediction = prediction.reshape(timesteps*batch_size, num_classes, input_size, input_size)\n",
    "        target = target.reshape(timesteps*batch_size, num_classes, input_size, input_size)\n",
    "        depth = depth.reshape(timesteps*batch_size, 1, input_size, input_size)\n",
    "    except RuntimeError:\n",
    "        prediction = prediction.reshape(timesteps*1, num_classes, input_size, input_size) # last_batch = 1\n",
    "        target = target.reshape(timesteps*1, num_classes, input_size, input_size)\n",
    "        depth = depth.reshape(timesteps*1, 1, input_size, input_size)\n",
    "    bce = F.binary_cross_entropy_with_logits(prediction, target)\n",
    "    prediction = F.sigmoid(prediction)\n",
    "    dice = dice_loss(prediction, target, depth)\n",
    "\n",
    "    loss = bce * bce_weight + dice * (1 - bce_weight)\n",
    "\n",
    "    return loss # dice\n",
    "\n",
    "def lossy(x, y, d):\n",
    "    return (((x - y)**2).sum(dim=1)*d**2).sum()/(256**2)"
   ]
  },
  {
   "cell_type": "code",
   "execution_count": 14,
   "metadata": {},
   "outputs": [],
   "source": [
    "def IoU(pred, target):\n",
    "    tanh = nn.Tanh()\n",
    "    pred = tanh(pred)\n",
    "    pred = pred.contiguous() * (-1)\n",
    "    target = target.contiguous() * (-1)  \n",
    "    intersection = (pred * target).sum(dim=2).sum(dim=2)\n",
    "\n",
    "    loss = (torch.abs(intersection))/(torch.abs(pred.sum(dim=2).sum(dim=2))+torch.abs(target.sum(dim=2).sum(dim=2))-torch.abs(intersection))\n",
    "    return loss.mean()"
   ]
  },
  {
   "cell_type": "code",
   "execution_count": 15,
   "metadata": {
    "colab": {
     "base_uri": "https://localhost:8080/",
     "height": 364
    },
    "colab_type": "code",
    "id": "XM7j3fpLWslk",
    "outputId": "12ed7e3d-0d27-43bc-b98c-82272315942d"
   },
   "outputs": [
    {
     "name": "stdout",
     "output_type": "stream",
     "text": [
      "epoch:  0\n"
     ]
    },
    {
     "name": "stderr",
     "output_type": "stream",
     "text": [
      "/headless/anaconda3/lib/python3.7/site-packages/torch/nn/modules/container.py:100: UserWarning: Implicit dimension choice for softmax has been deprecated. Change the call to include dim=X as an argument.\n",
      "  input = module(input)\n",
      "/headless/anaconda3/lib/python3.7/site-packages/torch/nn/functional.py:1351: UserWarning: nn.functional.sigmoid is deprecated. Use torch.sigmoid instead.\n",
      "  warnings.warn(\"nn.functional.sigmoid is deprecated. Use torch.sigmoid instead.\")\n"
     ]
    },
    {
     "name": "stdout",
     "output_type": "stream",
     "text": [
      "IoU:  0.48341862360636395\n",
      "epoch:  1\n",
      "IoU:  0.4739009936650594\n",
      "epoch:  2\n",
      "IoU:  0.47305917739868164\n",
      "epoch:  3\n",
      "IoU:  0.48394155502319336\n",
      "epoch:  4\n",
      "IoU:  0.4906378984451294\n",
      "epoch:  5\n",
      "IoU:  0.4919753869374593\n",
      "epoch:  6\n",
      "IoU:  0.4957841634750366\n",
      "epoch:  7\n",
      "IoU:  0.4999231497446696\n",
      "epoch:  8\n",
      "IoU:  0.5027283032735189\n",
      "epoch:  9\n",
      "IoU:  0.5049120585123698\n",
      "epoch:  10\n",
      "IoU:  0.506833553314209\n",
      "epoch:  11\n",
      "IoU:  0.5096859137217203\n",
      "epoch:  12\n",
      "IoU:  0.5121115446090698\n",
      "epoch:  13\n",
      "IoU:  0.5177239576975504\n",
      "epoch:  14\n",
      "IoU:  0.518978476524353\n",
      "epoch:  15\n",
      "IoU:  0.5229262510935465\n",
      "epoch:  16\n",
      "IoU:  0.5360914468765259\n",
      "epoch:  17\n",
      "IoU:  0.5295865535736084\n",
      "epoch:  18\n",
      "IoU:  0.5434410174687704\n",
      "epoch:  19\n",
      "IoU:  0.543634295463562\n",
      "epoch:  20\n",
      "IoU:  0.5505251089731852\n",
      "epoch:  21\n",
      "IoU:  0.5601230462392172\n",
      "epoch:  22\n",
      "IoU:  0.5537188053131104\n",
      "epoch:  23\n",
      "IoU:  0.5711221297581991\n",
      "epoch:  24\n",
      "IoU:  0.5711464881896973\n",
      "epoch:  25\n",
      "IoU:  0.5698685646057129\n",
      "epoch:  26\n",
      "IoU:  0.5830942392349243\n",
      "epoch:  27\n",
      "IoU:  0.5767766634623209\n",
      "epoch:  28\n",
      "IoU:  0.5913024346033732\n",
      "epoch:  29\n",
      "IoU:  0.5868970155715942\n",
      "epoch:  30\n",
      "IoU:  0.5934953689575195\n",
      "epoch:  31\n",
      "IoU:  0.5957224369049072\n",
      "epoch:  32\n",
      "IoU:  0.5987011591593424\n",
      "epoch:  33\n",
      "IoU:  0.6041820446650187\n",
      "epoch:  34\n",
      "IoU:  0.6027818520863851\n",
      "epoch:  35\n",
      "IoU:  0.6092313130696615\n",
      "epoch:  36\n",
      "IoU:  0.6098052660624186\n",
      "epoch:  37\n",
      "IoU:  0.6121219793955485\n",
      "epoch:  38\n",
      "IoU:  0.6142331759134928\n",
      "epoch:  39\n",
      "IoU:  0.6184840599695841\n",
      "epoch:  40\n",
      "IoU:  0.615432341893514\n",
      "epoch:  41\n",
      "IoU:  0.621534506479899\n",
      "epoch:  42\n",
      "IoU:  0.620262861251831\n",
      "epoch:  43\n",
      "IoU:  0.6214312712351481\n",
      "epoch:  44\n",
      "IoU:  0.6265803178151449\n",
      "epoch:  45\n",
      "IoU:  0.6284972826639811\n",
      "epoch:  46\n",
      "IoU:  0.6262731552124023\n",
      "epoch:  47\n",
      "IoU:  0.6290688514709473\n",
      "epoch:  48\n",
      "IoU:  0.6329712073008219\n",
      "epoch:  49\n",
      "IoU:  0.6332993110020956\n"
     ]
    }
   ],
   "source": [
    "for epoch in range(num_epochs):\n",
    "    metric = 0\n",
    "    print('epoch: ', epoch)\n",
    "    for i, data in enumerate(train_loader):\n",
    "        input, label, depth = data\n",
    "        input = input.to(device)\n",
    "        label = label.to(device)\n",
    "        depth = depth.to(device)\n",
    "        output = model(input)\n",
    "        loss = calc_loss(output, label, depth)      \n",
    "        loss.backward()\n",
    "        optimizer.step()\n",
    "        optimizer.zero_grad()\n",
    "\n",
    "        output1 = (output>0.3).float()\n",
    "        metric_out = output1.reshape(-1, 2, 128, 128)\n",
    "        metric_label = label.reshape(-1, 2, 128, 128)\n",
    "        metric += IoU(metric_out, metric_label)\n",
    "    print(\"IoU: \", metric.item() / i)"
   ]
  },
  {
   "cell_type": "code",
   "execution_count": 16,
   "metadata": {
    "colab": {},
    "colab_type": "code",
    "id": "Dukv8rkwWw9U"
   },
   "outputs": [],
   "source": [
    "def showw(object):\n",
    "    inp = object.reshape(-1, 1, 128, 128).cpu()\n",
    "    return to_pil(inp[0])"
   ]
  },
  {
   "cell_type": "code",
   "execution_count": 17,
   "metadata": {
    "colab": {},
    "colab_type": "code",
    "id": "6T9aYwx331wS"
   },
   "outputs": [
    {
     "data": {
      "image/png": "[encoded data removed]",
      "text/plain": [
       "<PIL.Image.Image image mode=L size=128x128 at 0x7FFF76238490>"
      ]
     },
     "execution_count": 17,
     "metadata": {},
     "output_type": "execute_result"
    }
   ],
   "source": [
    "showw(input)"
   ]
  },
  {
   "cell_type": "code",
   "execution_count": 18,
   "metadata": {
    "colab": {
     "base_uri": "https://localhost:8080/",
     "height": 145
    },
    "colab_type": "code",
    "id": "KFyAhdwfoeY_",
    "outputId": "b9c9f855-1ea8-404c-a453-ee36ff5055dc"
   },
   "outputs": [
    {
     "data": {
      "image/png": "[encoded data removed]",
      "text/plain": [
       "<PIL.Image.Image image mode=L size=128x128 at 0x7FFF76238B90>"
      ]
     },
     "execution_count": 18,
     "metadata": {},
     "output_type": "execute_result"
    }
   ],
   "source": [
    "output1 = (output>0.3).float()\n",
    "metric_out = output1.reshape(-1, 2, 128, 128)\n",
    "showw(output1)"
   ]
  },
  {
   "cell_type": "code",
   "execution_count": 19,
   "metadata": {
    "colab": {
     "base_uri": "https://localhost:8080/",
     "height": 145
    },
    "colab_type": "code",
    "id": "7UW5u6kovNyS",
    "outputId": "5b4a843c-042b-4e2e-a4d6-47b315544de0"
   },
   "outputs": [
    {
     "data": {
      "image/png": "[encoded data removed]",
      "text/plain": [
       "<PIL.Image.Image image mode=L size=128x128 at 0x7FFF760B5950>"
      ]
     },
     "execution_count": 19,
     "metadata": {},
     "output_type": "execute_result"
    }
   ],
   "source": [
    "metric_label = label.reshape(-1, 2, 128, 128)\n",
    "showw(label)"
   ]
  },
  {
   "cell_type": "code",
   "execution_count": 20,
   "metadata": {},
   "outputs": [
    {
     "data": {
      "text/plain": [
       "tensor(0.5407, device='cuda:0')"
      ]
     },
     "execution_count": 20,
     "metadata": {},
     "output_type": "execute_result"
    }
   ],
   "source": [
    "IoU(metric_out, metric_label)"
   ]
  },
  {
   "cell_type": "code",
   "execution_count": 21,
   "metadata": {
    "colab": {},
    "colab_type": "code",
    "id": "YybJAEEGvg8a"
   },
   "outputs": [],
   "source": [
    "list_inp = []\n",
    "list_out = []\n",
    "for i, data in enumerate(test_loader):\n",
    "    input = data\n",
    "    input = input.to(device)\n",
    "    test_output = model(input)\n",
    "    list_inp.append(input)\n",
    "    list_out.append(test_output)"
   ]
  },
  {
   "cell_type": "code",
   "execution_count": 22,
   "metadata": {},
   "outputs": [
    {
     "data": {
      "image/png": "[encoded data removed]",
      "text/plain": [
       "<PIL.Image.Image image mode=L size=128x128 at 0x7FFF760B7CD0>"
      ]
     },
     "execution_count": 22,
     "metadata": {},
     "output_type": "execute_result"
    }
   ],
   "source": [
    "showw(list_inp[0][0])"
   ]
  },
  {
   "cell_type": "code",
   "execution_count": 23,
   "metadata": {},
   "outputs": [
    {
     "data": {
      "text/plain": [
       "torch.Size([2, 128, 128])"
      ]
     },
     "execution_count": 23,
     "metadata": {},
     "output_type": "execute_result"
    }
   ],
   "source": [
    "showw(list_out[0][0])\n",
    "list_out[0][0].shape"
   ]
  },
  {
   "cell_type": "code",
   "execution_count": 24,
   "metadata": {},
   "outputs": [],
   "source": [
    "from PIL import ImageSequence"
   ]
  },
  {
   "cell_type": "code",
   "execution_count": 25,
   "metadata": {},
   "outputs": [],
   "source": [
    "index = 3 \n",
    "for i in range(len(list_out)):\n",
    "    test_out = showw(list_out[i][2][1])\n",
    "    test_out.save(\"../test_r_unet/data/test_output(gru_nan)/frame%d.png\" % index)\n",
    "    index += 1"
   ]
  },
  {
   "cell_type": "code",
   "execution_count": 26,
   "metadata": {},
   "outputs": [
    {
     "data": {
      "text/plain": [
       "torch.Size([2, 128, 128])"
      ]
     },
     "execution_count": 26,
     "metadata": {},
     "output_type": "execute_result"
    }
   ],
   "source": [
    "list_out[0][0].shape"
   ]
  },
  {
   "cell_type": "code",
   "execution_count": null,
   "metadata": {},
   "outputs": [],
   "source": []
  },
  {
   "cell_type": "code",
   "execution_count": 27,
   "metadata": {},
   "outputs": [
    {
     "name": "stdout",
     "output_type": "stream",
     "text": [
      "torch.Size([128, 128]) torch.Size([4, 3, 1, 2, 128, 128])\n"
     ]
    }
   ],
   "source": [
    "print(output[0][1].shape, label.shape)"
   ]
  },
  {
   "cell_type": "code",
   "execution_count": null,
   "metadata": {},
   "outputs": [],
   "source": []
  }
 ],
 "metadata": {
  "accelerator": "GPU",
  "colab": {
   "name": "Medical_test_unet.ipynb",
   "provenance": []
  },
  "kernelspec": {
   "display_name": "Python 3",
   "language": "python",
   "name": "python3"
  },
  "language_info": {
   "codemirror_mode": {
    "name": "ipython",
    "version": 3
   },
   "file_extension": ".py",
   "mimetype": "text/x-python",
   "name": "python",
   "nbconvert_exporter": "python",
   "pygments_lexer": "ipython3",
   "version": "3.7.4"
  }
 },
 "nbformat": 4,
 "nbformat_minor": 1
}
